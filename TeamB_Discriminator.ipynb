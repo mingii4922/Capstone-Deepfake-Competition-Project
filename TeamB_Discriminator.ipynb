{
 "cells": [
  {
   "cell_type": "code",
   "execution_count": 1,
   "metadata": {},
   "outputs": [],
   "source": [
    "import shutil\n",
    "import os\n",
    "import glob\n",
    "from PIL import Image\n",
    "import cv2\n",
    "import numpy as np\n",
    "import matplotlib.pyplot as plt\n",
    "from tqdm import tqdm\n",
    "\n",
    "from pathlib import Path\n",
    "from collections import OrderedDict\n",
    "\n",
    "import torch\n",
    "import torch.nn as nn\n",
    "import torchvision\n",
    "import torchvision.transforms as transforms\n",
    "from torchvision import datasets\n",
    "from torch.utils.data import Dataset,DataLoader\n",
    "\n",
    "import torch.nn as nn\n",
    "import torch.optim as optim"
   ]
  },
  {
   "cell_type": "code",
   "execution_count": 2,
   "metadata": {},
   "outputs": [],
   "source": [
    "torch.cuda.empty_cache()\n",
    "#사용하지 않으면서 캐시된 메모리들을 해제"
   ]
  },
  {
   "cell_type": "code",
   "execution_count": 3,
   "metadata": {},
   "outputs": [],
   "source": [
    "device = torch.device(\"cuda\" if torch.cuda.is_available() else \"cpu\")"
   ]
  },
  {
   "cell_type": "code",
   "execution_count": 4,
   "metadata": {},
   "outputs": [],
   "source": [
    "Epoch = 10"
   ]
  },
  {
   "cell_type": "markdown",
   "metadata": {},
   "source": [
    "### Load Data and Labeling"
   ]
  },
  {
   "cell_type": "code",
   "execution_count": 5,
   "metadata": {},
   "outputs": [],
   "source": [
    "newpath = Path(\"./Data\").expanduser()\n",
    "\n",
    "# train_path='./images_original'\n",
    "train_path = str(newpath.joinpath(\"testing\"))\n",
    "valid_path = str(newpath.joinpath(\"valid\"))\n",
    "test_path = str(newpath.joinpath(\"test\"))"
   ]
  },
  {
   "cell_type": "code",
   "execution_count": 6,
   "metadata": {},
   "outputs": [],
   "source": [
    "# MEANS = [0.485 , 0.456, 0.406]\n",
    "# DEVIATIONS = [0.229, 0.224 , 0.225]\n",
    "MEANS=0.5\n",
    "DEVIATIONS=0.5\n",
    "# transforms\n",
    "resize = (64,64)\n",
    "\n",
    "train_transform = transforms.Compose([\n",
    "#                     transforms.RandomRotation(20),\n",
    "                    transforms.Resize(resize),\n",
    "#                     transforms.CenterCrop((224,224)),\n",
    "                    \n",
    "                    transforms.RandomHorizontalFlip(p=0.5),\n",
    "                    transforms.ToTensor(),\n",
    "                    transforms.Normalize(MEANS, DEVIATIONS)])\n",
    "\n",
    "valid_transform = transforms.Compose([\n",
    "                    transforms.Resize(resize),\n",
    "                    transforms.ToTensor(),\n",
    "                    transforms.Normalize(MEANS, DEVIATIONS)])\n",
    "\n",
    "test_transform = transforms.Compose([\n",
    "                    transforms.Resize(resize),\n",
    "                    transforms.ToTensor(),\n",
    "                    transforms.Normalize(MEANS, DEVIATIONS)])\n",
    "\n",
    "# # Image folder\n",
    "train_data = datasets.ImageFolder(root = train_path, transform = train_transform)\n",
    "validation_data = datasets.ImageFolder(root = valid_path, transform = train_transform)\n",
    "test_data = datasets.ImageFolder(root = test_path, transform = test_transform)\n",
    "\n",
    "\n",
    "# DataLoader\n",
    "train_DataLoader = torch.utils.data.DataLoader(train_data, batch_size=16, shuffle=True)\n",
    "valid_DataLoader = torch.utils.data.DataLoader(validation_data, batch_size=16, shuffle=True)\n",
    "test_DataLoader = torch.utils.data.DataLoader(test_data, batch_size=16, shuffle=True)\n",
    "# #데이터셋으로 데이터 로더 만들기"
   ]
  },
  {
   "cell_type": "code",
   "execution_count": 7,
   "metadata": {},
   "outputs": [
    {
     "name": "stdout",
     "output_type": "stream",
     "text": [
      "Train data : 10136\n",
      "Validation data : 1561\n",
      "Test data : 1171\n"
     ]
    }
   ],
   "source": [
    "print(f'Train data : {len(train_data)}')\n",
    "print(f'Validation data : {len(validation_data)}')\n",
    "print(f'Test data : {len(test_data)}')"
   ]
  },
  {
   "cell_type": "code",
   "execution_count": 8,
   "metadata": {},
   "outputs": [
    {
     "name": "stdout",
     "output_type": "stream",
     "text": [
      "train :  ['fake', 'real']\n",
      "validation :  ['fake', 'real']\n",
      "test :  ['fake', 'real']\n"
     ]
    }
   ],
   "source": [
    "print(\"train : \",train_data.classes)\n",
    "print(\"validation : \",validation_data.classes)\n",
    "print(\"test : \",test_data.classes)"
   ]
  },
  {
   "cell_type": "code",
   "execution_count": 9,
   "metadata": {},
   "outputs": [
    {
     "data": {
      "text/plain": [
       "<matplotlib.image.AxesImage at 0x1c55da0f548>"
      ]
     },
     "execution_count": 9,
     "metadata": {},
     "output_type": "execute_result"
    },
    {
     "data": {
      "image/png": "[encoded data removed]",
      "text/plain": [
       "<Figure size 432x288 with 1 Axes>"
      ]
     },
     "metadata": {
      "needs_background": "light"
     },
     "output_type": "display_data"
    }
   ],
   "source": [
    "plt.imshow((test_data.__getitem__(50)[0]*0.5+0.5).permute(1,2,0).detach().numpy())"
   ]
  },
  {
   "cell_type": "markdown",
   "metadata": {},
   "source": [
    "## Model VGG16"
   ]
  },
  {
   "cell_type": "code",
   "execution_count": 10,
   "metadata": {},
   "outputs": [
    {
     "name": "stdout",
     "output_type": "stream",
     "text": [
      "model prepared\n"
     ]
    }
   ],
   "source": [
    "model =torchvision.models.vgg16(pretrained=True, progress=True)\n",
    "\n",
    "for param in model.parameters():\n",
    "    param.requires_grad = False\n",
    "\n",
    "fc = nn.Sequential(OrderedDict([\n",
    "                       ( '(0): Linear',nn.Linear(in_features=25088, out_features=128, bias=True)),\n",
    "                        ('(1): ReLU',nn.ReLU(inplace=True)),\n",
    "                        ('(2): Dropout',nn.Dropout(p=0.5, inplace=False)),\n",
    "                        ('(3): Linear',nn.Linear(in_features=128, out_features=128, bias=True)),\n",
    "                        #('(4): Sigmoid',nn.Sigmoid()),\n",
    "                        ('(4): ReLU',nn.ReLU(inplace=True)),\n",
    "                        ('(5): Dropout', nn.Dropout(p=0.5, inplace=False)),\n",
    "                        ('(6): Linear',nn.Linear(in_features=128, out_features=len(train_data.classes), bias=True)),\n",
    "                      ]))\n",
    "\n",
    "model.classifier = fc\n",
    "# model = torch.load('./model/0fold_vgg11_1_min.pt')\n",
    "model.to(device)\n",
    "\n",
    "\n",
    "# model.apply(init_weights)\n",
    "\n",
    "print('model prepared')"
   ]
  },
  {
   "cell_type": "code",
   "execution_count": 11,
   "metadata": {},
   "outputs": [],
   "source": [
    "criterion = nn.CrossEntropyLoss()\n",
    "optimizer = optim.Adam(model.parameters() , lr =1e-3)\n",
    "scheduler = torch.optim.lr_scheduler.StepLR(optimizer,10,0.1)"
   ]
  },
  {
   "cell_type": "code",
   "execution_count": 12,
   "metadata": {},
   "outputs": [],
   "source": [
    "# 이미지가 깨졌을 경우, 오류 발생X\n",
    "from PIL import ImageFile \n",
    "ImageFile.LOAD_TRUNCATED_IMAGES = True"
   ]
  },
  {
   "cell_type": "code",
   "execution_count": 13,
   "metadata": {},
   "outputs": [
    {
     "name": "stderr",
     "output_type": "stream",
     "text": [
      "  0%|                                                                                          | 0/634 [00:00<?, ?it/s]"
     ]
    },
    {
     "name": "stdout",
     "output_type": "stream",
     "text": [
      "1st training start\n"
     ]
    },
    {
     "name": "stderr",
     "output_type": "stream",
     "text": [
      "100%|████████████████████████████████████████████████████████████████████████████████| 634/634 [00:43<00:00, 14.53it/s]\n",
      "100%|██████████████████████████████████████████████████████████████████████████████████| 98/98 [00:06<00:00, 16.22it/s]\n",
      "  0%|                                                                                          | 0/634 [00:00<?, ?it/s]"
     ]
    },
    {
     "name": "stdout",
     "output_type": "stream",
     "text": [
      "learning_rate : 1.0e-03\n",
      "Epoch: 1 \tTraining Loss: 0.249996 \tValidation Loss: 0.080295\n",
      "          \tTraining Accuracy: 90.88 \tValidation Accuracy: 97.00%\n",
      "Validation loss decreased (inf --> 0.080295).  Saving model ...\n",
      "2st training start\n"
     ]
    },
    {
     "name": "stderr",
     "output_type": "stream",
     "text": [
      "100%|████████████████████████████████████████████████████████████████████████████████| 634/634 [00:42<00:00, 14.99it/s]\n",
      "100%|██████████████████████████████████████████████████████████████████████████████████| 98/98 [00:06<00:00, 16.32it/s]\n",
      "  0%|                                                                                          | 0/634 [00:00<?, ?it/s]"
     ]
    },
    {
     "name": "stdout",
     "output_type": "stream",
     "text": [
      "learning_rate : 1.0e-03\n",
      "Epoch: 2 \tTraining Loss: 0.140408 \tValidation Loss: 0.073114\n",
      "          \tTraining Accuracy: 95.02 \tValidation Accuracy: 97.34%\n",
      "Validation loss decreased (0.080295 --> 0.073114).  Saving model ...\n",
      "3st training start\n"
     ]
    },
    {
     "name": "stderr",
     "output_type": "stream",
     "text": [
      "100%|████████████████████████████████████████████████████████████████████████████████| 634/634 [00:42<00:00, 14.99it/s]\n",
      "100%|██████████████████████████████████████████████████████████████████████████████████| 98/98 [00:06<00:00, 16.28it/s]\n",
      "  0%|                                                                                          | 0/634 [00:00<?, ?it/s]"
     ]
    },
    {
     "name": "stdout",
     "output_type": "stream",
     "text": [
      "learning_rate : 1.0e-03\n",
      "Epoch: 3 \tTraining Loss: 0.120346 \tValidation Loss: 0.066841\n",
      "          \tTraining Accuracy: 95.66 \tValidation Accuracy: 97.58%\n",
      "Validation loss decreased (0.073114 --> 0.066841).  Saving model ...\n",
      "4st training start\n"
     ]
    },
    {
     "name": "stderr",
     "output_type": "stream",
     "text": [
      "100%|████████████████████████████████████████████████████████████████████████████████| 634/634 [00:42<00:00, 15.01it/s]\n",
      "100%|██████████████████████████████████████████████████████████████████████████████████| 98/98 [00:06<00:00, 16.26it/s]\n",
      "  0%|▎                                                                                 | 2/634 [00:00<00:40, 15.61it/s]"
     ]
    },
    {
     "name": "stdout",
     "output_type": "stream",
     "text": [
      "learning_rate : 1.0e-03\n",
      "Epoch: 4 \tTraining Loss: 0.097882 \tValidation Loss: 0.071263\n",
      "          \tTraining Accuracy: 96.82 \tValidation Accuracy: 97.51%\n",
      "5st training start\n"
     ]
    },
    {
     "name": "stderr",
     "output_type": "stream",
     "text": [
      "100%|████████████████████████████████████████████████████████████████████████████████| 634/634 [00:42<00:00, 14.99it/s]\n",
      "100%|██████████████████████████████████████████████████████████████████████████████████| 98/98 [00:05<00:00, 16.35it/s]\n",
      "  0%|                                                                                          | 0/634 [00:00<?, ?it/s]"
     ]
    },
    {
     "name": "stdout",
     "output_type": "stream",
     "text": [
      "learning_rate : 1.0e-03\n",
      "Epoch: 5 \tTraining Loss: 0.102172 \tValidation Loss: 0.064874\n",
      "          \tTraining Accuracy: 96.33 \tValidation Accuracy: 97.77%\n",
      "Validation loss decreased (0.066841 --> 0.064874).  Saving model ...\n",
      "6st training start\n"
     ]
    },
    {
     "name": "stderr",
     "output_type": "stream",
     "text": [
      "100%|████████████████████████████████████████████████████████████████████████████████| 634/634 [00:42<00:00, 14.83it/s]\n",
      "100%|██████████████████████████████████████████████████████████████████████████████████| 98/98 [00:06<00:00, 16.15it/s]\n",
      "  0%|▎                                                                                 | 2/634 [00:00<00:44, 14.27it/s]"
     ]
    },
    {
     "name": "stdout",
     "output_type": "stream",
     "text": [
      "learning_rate : 1.0e-03\n",
      "Epoch: 6 \tTraining Loss: 0.084523 \tValidation Loss: 0.071265\n",
      "          \tTraining Accuracy: 96.86 \tValidation Accuracy: 97.39%\n",
      "7st training start\n"
     ]
    },
    {
     "name": "stderr",
     "output_type": "stream",
     "text": [
      "100%|████████████████████████████████████████████████████████████████████████████████| 634/634 [00:45<00:00, 13.86it/s]\n",
      "100%|██████████████████████████████████████████████████████████████████████████████████| 98/98 [00:06<00:00, 15.20it/s]\n",
      "  0%|                                                                                          | 0/634 [00:00<?, ?it/s]"
     ]
    },
    {
     "name": "stdout",
     "output_type": "stream",
     "text": [
      "learning_rate : 1.0e-03\n",
      "Epoch: 7 \tTraining Loss: 0.084533 \tValidation Loss: 0.053620\n",
      "          \tTraining Accuracy: 97.00 \tValidation Accuracy: 98.02%\n",
      "Validation loss decreased (0.064874 --> 0.053620).  Saving model ...\n",
      "8st training start\n"
     ]
    },
    {
     "name": "stderr",
     "output_type": "stream",
     "text": [
      "100%|████████████████████████████████████████████████████████████████████████████████| 634/634 [00:45<00:00, 14.04it/s]\n",
      "100%|██████████████████████████████████████████████████████████████████████████████████| 98/98 [00:06<00:00, 15.29it/s]\n",
      "  0%|▎                                                                                 | 2/634 [00:00<00:52, 12.11it/s]"
     ]
    },
    {
     "name": "stdout",
     "output_type": "stream",
     "text": [
      "learning_rate : 1.0e-03\n",
      "Epoch: 8 \tTraining Loss: 0.081261 \tValidation Loss: 0.061362\n",
      "          \tTraining Accuracy: 97.14 \tValidation Accuracy: 98.15%\n",
      "9st training start\n"
     ]
    },
    {
     "name": "stderr",
     "output_type": "stream",
     "text": [
      "100%|████████████████████████████████████████████████████████████████████████████████| 634/634 [00:45<00:00, 14.08it/s]\n",
      "100%|██████████████████████████████████████████████████████████████████████████████████| 98/98 [00:06<00:00, 15.25it/s]\n",
      "  0%|▎                                                                                 | 2/634 [00:00<00:45, 13.78it/s]"
     ]
    },
    {
     "name": "stdout",
     "output_type": "stream",
     "text": [
      "learning_rate : 1.0e-03\n",
      "Epoch: 9 \tTraining Loss: 0.079815 \tValidation Loss: 0.070850\n",
      "          \tTraining Accuracy: 96.98 \tValidation Accuracy: 97.45%\n",
      "10st training start\n"
     ]
    },
    {
     "name": "stderr",
     "output_type": "stream",
     "text": [
      "100%|████████████████████████████████████████████████████████████████████████████████| 634/634 [00:45<00:00, 14.05it/s]\n",
      "100%|██████████████████████████████████████████████████████████████████████████████████| 98/98 [00:06<00:00, 15.30it/s]"
     ]
    },
    {
     "name": "stdout",
     "output_type": "stream",
     "text": [
      "learning_rate : 1.0e-03\n",
      "Epoch: 10 \tTraining Loss: 0.085261 \tValidation Loss: 0.069202\n",
      "          \tTraining Accuracy: 97.09 \tValidation Accuracy: 97.19%\n"
     ]
    },
    {
     "name": "stderr",
     "output_type": "stream",
     "text": [
      "\n"
     ]
    }
   ],
   "source": [
    "vali_loss_min = np.inf\n",
    "train_losses,valid_losses=[],[]\n",
    "train_Acc,valid_Acc =[],[]\n",
    "train_lr=[]\n",
    "for epoch in range(Epoch):\n",
    "    print(f'{epoch+1}st training start')\n",
    "    train_accuracy =0\n",
    "    vali_accuracy = 0\n",
    "    train_loss ,vali_loss =0,0\n",
    "    model.train()\n",
    "    for x, y in tqdm(train_DataLoader):\n",
    "        x,y = x.to(device), y.to(device)\n",
    "        output= model(x)\n",
    "        \n",
    "        optimizer.zero_grad()\n",
    "        \n",
    "        loss = criterion(output, y)\n",
    "#         loss = my_loss(output, y.long())\n",
    "        loss.backward()\n",
    "        optimizer.step()\n",
    "        \n",
    "        train_loss += loss.item()*x.size(0)\n",
    "        \n",
    "        ps = output.clone().softmax(dim=1)\n",
    "#         ps = torch.exp(output)\n",
    "        top_p, top_class = ps.topk(1, dim=1)\n",
    "        equals = top_class == y.view(*top_class.shape)\n",
    "        train_accuracy += torch.mean(equals.type(torch.FloatTensor)).item()\n",
    "        \n",
    "    model.eval()\n",
    "    with torch.no_grad():\n",
    "        for x, y in tqdm(valid_DataLoader):\n",
    "            x,y = x.to(device), y.to(device)\n",
    "            output= model(x)\n",
    "            loss=criterion( output, y)\n",
    "            \n",
    "            vali_loss += loss.item()*x.size(0)\n",
    "            \n",
    "            ps = output.clone().softmax(dim=1)\n",
    "#             ps = torch.exp(output)\n",
    "            top_p, top_class = ps.topk(1, dim=1)\n",
    "            equals = top_class == y.view(*top_class.shape)\n",
    "            vali_accuracy += torch.mean(equals.type(torch.FloatTensor)).item()\n",
    "            \n",
    "    train_loss = train_loss/ len(train_DataLoader.sampler)\n",
    "    vali_loss = vali_loss/ len(valid_DataLoader.sampler)\n",
    "\n",
    "    train_accuracy=(train_accuracy/len(train_DataLoader))*100\n",
    "    vali_accuracy=(vali_accuracy/len(valid_DataLoader))*100\n",
    "\n",
    "\n",
    "    train_Acc.append(train_accuracy)\n",
    "    valid_Acc.append(vali_accuracy)\n",
    "    train_losses.append(train_loss)\n",
    "    valid_losses.append(vali_loss)\n",
    "    \n",
    "    for param_group in optimizer.param_groups:\n",
    "        learning_rate = param_group['lr']\n",
    "    train_lr.append(learning_rate)\n",
    "    print(f'learning_rate : {learning_rate:.1e}')\n",
    "    \n",
    "    scheduler.step()\n",
    "    \n",
    "    print('Epoch: {} \\tTraining Loss: {:.6f} \\tValidation Loss: {:.6f}'.format(epoch+1, train_loss, vali_loss))\n",
    "    print('          \\tTraining Accuracy: {:.2f} \\tValidation Accuracy: {:.2f}%'.format( train_accuracy, vali_accuracy))\n",
    "\n",
    "        \n",
    "    \n",
    "    if vali_loss < vali_loss_min:\n",
    "        print('Validation loss decreased ({:.6f} --> {:.6f}).  Saving model ...'.format( vali_loss_min, vali_loss))\n",
    "#         torch.save(model, f'vgg16_{cnt}.pt')\n",
    "        vali_loss_min = vali_loss\n",
    "    \n",
    "#         torch.save(model, f'model/vgg16_{epoch+1}_min.pt')\n",
    "        torch.save(model, f'model/vgg16_simpson_1.pt')\n",
    "        #torch.save(model, f'model/vgg16_simpson2.pt')\n",
    "    \n",
    "#         torch.save(model, f'model/vgg16_mushroom.pt')\n",
    "    \n",
    "        \n",
    "#     else:\n",
    "#         torch.save(model, f'model/vgg16_{epoch+1}.pt')\n",
    "        \n",
    " "
   ]
  },
  {
   "cell_type": "code",
   "execution_count": null,
   "metadata": {},
   "outputs": [],
   "source": []
  },
  {
   "cell_type": "markdown",
   "metadata": {},
   "source": [
    "## Model ResNet-50"
   ]
  },
  {
   "cell_type": "code",
   "execution_count": 14,
   "metadata": {},
   "outputs": [],
   "source": [
    "class BasicBlock(nn.Module):\n",
    "    expansion = 1\n",
    "    def __init__(self, in_channels, out_channels, stride=1):\n",
    "        super().__init__()\n",
    "\n",
    "        # BatchNorm에 bias가 포함되어 있으므로, conv2d는 bias=False로 설정합니다.\n",
    "        self.residual_function = nn.Sequential(\n",
    "            nn.Conv2d(in_channels, out_channels, kernel_size=3, stride=stride, padding=1, bias=False),\n",
    "            nn.BatchNorm2d(out_channels),\n",
    "            nn.ReLU(),\n",
    "            nn.Conv2d(out_channels, out_channels * BasicBlock.expansion, kernel_size=3, stride=1, padding=1, bias=False),\n",
    "            nn.BatchNorm2d(out_channels * BasicBlock.expansion),\n",
    "        )\n",
    "\n",
    "        # identity mapping, input과 output의 feature map size, filter 수가 동일한 경우 사용.\n",
    "        self.shortcut = nn.Sequential()\n",
    "\n",
    "        self.relu = nn.ReLU()\n",
    "\n",
    "        # projection mapping using 1x1conv\n",
    "        if stride != 1 or in_channels != BasicBlock.expansion * out_channels:\n",
    "            self.shortcut = nn.Sequential(\n",
    "                nn.Conv2d(in_channels, out_channels * BasicBlock.expansion, kernel_size=1, stride=stride, bias=False),\n",
    "                nn.BatchNorm2d(out_channels * BasicBlock.expansion)\n",
    "            )\n",
    "\n",
    "    def forward(self, x):\n",
    "        x = self.residual_function(x) + self.shortcut(x)\n",
    "        x = self.relu(x)\n",
    "        return x\n",
    "\n",
    "\n",
    "class BottleNeck(nn.Module):\n",
    "    expansion = 4\n",
    "    def __init__(self, in_channels, out_channels, stride=1):\n",
    "        super().__init__()\n",
    "\n",
    "        self.residual_function = nn.Sequential(\n",
    "            nn.Conv2d(in_channels, out_channels, kernel_size=1, stride=1, bias=False),\n",
    "            nn.BatchNorm2d(out_channels),\n",
    "            nn.ReLU(),\n",
    "            nn.Conv2d(out_channels, out_channels, kernel_size=3, stride=stride, padding=1, bias=False),\n",
    "            nn.BatchNorm2d(out_channels),\n",
    "            nn.ReLU(),\n",
    "            nn.Conv2d(out_channels, out_channels * BottleNeck.expansion, kernel_size=1, stride=1, bias=False),\n",
    "            nn.BatchNorm2d(out_channels * BottleNeck.expansion),\n",
    "        )\n",
    "\n",
    "        self.shortcut = nn.Sequential()\n",
    "\n",
    "        self.relu = nn.ReLU()\n",
    "\n",
    "        if stride != 1 or in_channels != out_channels * BottleNeck.expansion:\n",
    "            self.shortcut = nn.Sequential(\n",
    "                nn.Conv2d(in_channels, out_channels*BottleNeck.expansion, kernel_size=1, stride=stride, bias=False),\n",
    "                nn.BatchNorm2d(out_channels*BottleNeck.expansion)\n",
    "            )\n",
    "            \n",
    "    def forward(self, x):\n",
    "        x = self.residual_function(x) + self.shortcut(x)\n",
    "        x = self.relu(x)\n",
    "        return x"
   ]
  },
  {
   "cell_type": "code",
   "execution_count": 15,
   "metadata": {},
   "outputs": [],
   "source": [
    "class ResNet(nn.Module):\n",
    "    def __init__(self, block, num_block, num_classes=2, init_weights=True):\n",
    "        super().__init__()\n",
    "\n",
    "        self.in_channels=64\n",
    "\n",
    "        self.conv1 = nn.Sequential(\n",
    "            nn.Conv2d(3, 64, kernel_size=7, stride=2, padding=3, bias=False),\n",
    "            nn.BatchNorm2d(64),\n",
    "            nn.ReLU(),\n",
    "            nn.MaxPool2d(kernel_size=3, stride=2, padding=1)\n",
    "        )\n",
    "\n",
    "        self.conv2_x = self._make_layer(block, 64, num_block[0], 1)\n",
    "        self.conv3_x = self._make_layer(block, 128, num_block[1], 2)\n",
    "        self.conv4_x = self._make_layer(block, 256, num_block[2], 2)\n",
    "        self.conv5_x = self._make_layer(block, 512, num_block[3], 2)\n",
    "\n",
    "        self.avg_pool = nn.AdaptiveAvgPool2d((1,1))\n",
    "        self.fc = nn.Linear(512 * block.expansion, num_classes)\n",
    "\n",
    "        # weights inittialization\n",
    "        if init_weights:\n",
    "            self._initialize_weights()\n",
    "\n",
    "    def _make_layer(self, block, out_channels, num_blocks, stride):\n",
    "        strides = [stride] + [1] * (num_blocks - 1)\n",
    "        layers = []\n",
    "        for stride in strides:\n",
    "            layers.append(block(self.in_channels, out_channels, stride))\n",
    "            self.in_channels = out_channels * block.expansion\n",
    "\n",
    "        return nn.Sequential(*layers)\n",
    "\n",
    "    def forward(self,x):\n",
    "        output = self.conv1(x)\n",
    "        output = self.conv2_x(output)\n",
    "        x = self.conv3_x(output)\n",
    "        x = self.conv4_x(x)\n",
    "        x = self.conv5_x(x)\n",
    "        x = self.avg_pool(x)\n",
    "        x = x.view(x.size(0), -1)\n",
    "        x = self.fc(x)\n",
    "        return x\n",
    "\n",
    "    # define weight initialization function\n",
    "    def _initialize_weights(self):\n",
    "        for m in self.modules():\n",
    "            if isinstance(m, nn.Conv2d):\n",
    "                nn.init.kaiming_normal_(m.weight, mode='fan_out', nonlinearity='relu')\n",
    "                if m.bias is not None:\n",
    "                    nn.init.constant_(m.bias, 0)\n",
    "            elif isinstance(m, nn.BatchNorm2d):\n",
    "                nn.init.constant_(m.weight, 1)\n",
    "                nn.init.constant_(m.bias, 0)\n",
    "            elif isinstance(m, nn.Linear):\n",
    "                nn.init.normal_(m.weight, 0, 0.01)\n",
    "                nn.init.constant_(m.bias, 0)\n",
    "\n",
    "def resnet50():\n",
    "    return ResNet(BottleNeck, [3,4,6,3])"
   ]
  },
  {
   "cell_type": "code",
   "execution_count": 16,
   "metadata": {},
   "outputs": [
    {
     "name": "stdout",
     "output_type": "stream",
     "text": [
      "torch.Size([3, 2])\n"
     ]
    }
   ],
   "source": [
    "device = torch.device('cuda' if torch.cuda.is_available() else 'cpu')\n",
    "model = resnet50().to(device)\n",
    "x = torch.randn(3, 3, 224, 224).to(device)\n",
    "output = model(x)\n",
    "print(output.size())"
   ]
  },
  {
   "cell_type": "code",
   "execution_count": 17,
   "metadata": {},
   "outputs": [],
   "source": [
    "device = torch.device('cuda' if torch.cuda.is_available() else 'cpu')\n",
    "model = resnet50().to(device)"
   ]
  },
  {
   "cell_type": "code",
   "execution_count": 18,
   "metadata": {},
   "outputs": [],
   "source": [
    "loss_func= nn.CrossEntropyLoss()\n",
    "opt = optim.Adam(model.parameters() , lr =0.001)# ,weight_decay=1e-6)\n",
    "scheduler = torch.optim.lr_scheduler.StepLR(optimizer,10,0.1)\n",
    "\n",
    "from torch.optim.lr_scheduler import ReduceLROnPlateau\n",
    "lr_scheduler = ReduceLROnPlateau(optimizer, mode='min', factor=0.1, patience=10)"
   ]
  },
  {
   "cell_type": "code",
   "execution_count": 19,
   "metadata": {},
   "outputs": [],
   "source": [
    "def get_lr(optimizer):\n",
    "    for param_group in opt.param_groups:\n",
    "        return param_group['lr']"
   ]
  },
  {
   "cell_type": "code",
   "execution_count": 20,
   "metadata": {},
   "outputs": [],
   "source": [
    "def metric_batch(output, target):\n",
    "    pred = output.argmax(1, keepdim=True)\n",
    "    corrects = pred.eq(target.view_as(pred)).sum().item()\n",
    "    return corrects\n",
    "\n",
    "# function to calculate loss per mini-batch\n",
    "def loss_batch(loss_func, output, target, opt=None):\n",
    "    loss = loss_func(output, target)\n",
    "    metric_b = metric_batch(output, target)\n",
    "\n",
    "    if opt is not None:\n",
    "        opt.zero_grad()\n",
    "        loss.backward()\n",
    "        opt.step()\n",
    "\n",
    "    return loss.item(), metric_b"
   ]
  },
  {
   "cell_type": "code",
   "execution_count": 21,
   "metadata": {},
   "outputs": [],
   "source": [
    "def loss_epoch(model, loss_func, dataset_dl, sanity_check=False, opt=None):\n",
    "    running_loss = 0.0\n",
    "    running_metric = 0.0\n",
    "    len_data = len(dataset_dl.dataset)\n",
    "\n",
    "    for xb, yb in dataset_dl:\n",
    "        xb = xb.to(device)\n",
    "        yb = yb.to(device)\n",
    "        output = model(xb)\n",
    "\n",
    "        loss_b, metric_b = loss_batch(loss_func, output, yb, opt)\n",
    "\n",
    "        running_loss += loss_b\n",
    "        \n",
    "        if metric_b is not None:\n",
    "            running_metric += metric_b\n",
    "        \n",
    "        if sanity_check is True:\n",
    "            break\n",
    "\n",
    "    loss = running_loss / len_data\n",
    "    metric = running_metric / len_data\n",
    "\n",
    "    return loss, metric"
   ]
  },
  {
   "cell_type": "code",
   "execution_count": 22,
   "metadata": {},
   "outputs": [],
   "source": [
    "def train_val(model, params):\n",
    "    num_epochs=params['num_epochs']\n",
    "    loss_func=params[\"loss_func\"]\n",
    "    opt=params[\"optimizer\"]\n",
    "    train_dl=params[\"train_dl\"]\n",
    "    val_dl=params[\"val_dl\"]\n",
    "    sanity_check=params[\"sanity_check\"]\n",
    "    lr_scheduler=params[\"lr_scheduler\"]\n",
    "    path2weights=params[\"path2weights\"]\n",
    "\n",
    "    loss_history = {'train': [], 'val': []}\n",
    "    metric_history = {'train': [], 'val': []}\n",
    "\n",
    "    # # GPU out of memoty error\n",
    "    # best_model_wts = copy.deepcopy(model.state_dict())\n",
    "\n",
    "    best_loss = float('inf')\n",
    "\n",
    "    start_time = time.time()#time 대신 tqdm 사용\n",
    "\n",
    "    for epoch in range(num_epochs):\n",
    "        current_lr = get_lr(opt)\n",
    "        print('Epoch {}/{}, current lr={}'.format(epoch+1, num_epochs, current_lr))\n",
    "\n",
    "        model.train()\n",
    "        train_loss, train_metric = loss_epoch(model, loss_func, train_dl, sanity_check, opt)\n",
    "        loss_history['train'].append(train_loss)\n",
    "        metric_history['train'].append(train_metric)\n",
    "\n",
    "        model.eval()\n",
    "        with torch.no_grad():\n",
    "            val_loss, val_metric = loss_epoch(model, loss_func, val_dl, sanity_check)\n",
    "        loss_history['val'].append(val_loss)\n",
    "        metric_history['val'].append(val_metric)\n",
    "\n",
    "        if val_loss < best_loss:\n",
    "            best_loss = val_loss\n",
    "            # best_model_wts = copy.deepcopy(model.state_dict())\n",
    "\n",
    "            # torch.save(model.state_dict(), path2weights)\n",
    "            # print('Copied best model weights!')\n",
    "            print('Get best val_loss')\n",
    "\n",
    "        lr_scheduler.step(val_loss)\n",
    "\n",
    "        print('train loss: %.6f, val loss: %.6f, accuracy: %.2f, time: %.4f min' %(train_loss, val_loss, 100*val_metric, (time.time()-start_time)/60))\n",
    "        print('-'*10)\n",
    "        \n",
    "        #save model\n",
    "        torch.save(model, f'model/resnet_1.pt')\n",
    "\n",
    "    # model.load_state_dict(best_model_wts)\n",
    "\n",
    "    return model, loss_history, metric_history"
   ]
  },
  {
   "cell_type": "code",
   "execution_count": 23,
   "metadata": {},
   "outputs": [],
   "source": [
    "params_train = {\n",
    "    'num_epochs':20,\n",
    "    'optimizer':opt,\n",
    "    'loss_func':loss_func,\n",
    "    'train_dl':train_DataLoader,\n",
    "    'val_dl':valid_DataLoader,\n",
    "    'sanity_check':False,\n",
    "    'lr_scheduler':lr_scheduler,\n",
    "    'path2weights':'./models/weights.pt',\n",
    "}\n",
    "\n",
    "# create the directory that stores weights.pt\n",
    "def createFolder(directory):\n",
    "    try:\n",
    "        if not os.path.exists(directory):\n",
    "            os.makedirs(directory)\n",
    "    except OSerror:\n",
    "        print('Error')"
   ]
  },
  {
   "cell_type": "code",
   "execution_count": 24,
   "metadata": {},
   "outputs": [
    {
     "name": "stdout",
     "output_type": "stream",
     "text": [
      "Epoch 1/20, current lr=0.001\n",
      "Get best val_loss\n",
      "train loss: 0.009858, val loss: 0.001666, accuracy: 98.98, time: 1.1872 min\n",
      "----------\n",
      "Epoch 2/20, current lr=0.001\n",
      "Get best val_loss\n",
      "train loss: 0.001616, val loss: 0.000771, accuracy: 99.30, time: 2.3768 min\n",
      "----------\n",
      "Epoch 3/20, current lr=0.001\n",
      "Get best val_loss\n",
      "train loss: 0.001041, val loss: 0.000555, accuracy: 99.68, time: 3.5564 min\n",
      "----------\n",
      "Epoch 4/20, current lr=0.001\n",
      "Get best val_loss\n",
      "train loss: 0.000890, val loss: 0.000294, accuracy: 99.81, time: 4.7412 min\n",
      "----------\n",
      "Epoch 5/20, current lr=0.001\n",
      "train loss: 0.001002, val loss: 0.001189, accuracy: 99.55, time: 5.9206 min\n",
      "----------\n",
      "Epoch 6/20, current lr=0.001\n",
      "train loss: 0.000813, val loss: 0.000535, accuracy: 99.62, time: 7.1032 min\n",
      "----------\n",
      "Epoch 7/20, current lr=0.001\n",
      "train loss: 0.000589, val loss: 0.000310, accuracy: 99.87, time: 8.2879 min\n",
      "----------\n",
      "Epoch 8/20, current lr=0.001\n",
      "Get best val_loss\n",
      "train loss: 0.000469, val loss: 0.000165, accuracy: 99.87, time: 9.4626 min\n",
      "----------\n",
      "Epoch 9/20, current lr=0.001\n",
      "train loss: 0.001001, val loss: 0.000409, accuracy: 99.74, time: 10.6473 min\n",
      "----------\n",
      "Epoch 10/20, current lr=0.001\n",
      "train loss: 0.002144, val loss: 0.000458, accuracy: 99.74, time: 11.8288 min\n",
      "----------\n",
      "Epoch 11/20, current lr=0.001\n",
      "train loss: 0.000588, val loss: 0.000190, accuracy: 99.87, time: 13.0055 min\n",
      "----------\n",
      "Epoch 12/20, current lr=0.001\n",
      "train loss: 0.000998, val loss: 0.000970, accuracy: 99.36, time: 14.1867 min\n",
      "----------\n",
      "Epoch 13/20, current lr=0.001\n",
      "Get best val_loss\n",
      "train loss: 0.000360, val loss: 0.000088, accuracy: 99.94, time: 15.3624 min\n",
      "----------\n",
      "Epoch 14/20, current lr=0.001\n",
      "train loss: 0.000272, val loss: 0.000151, accuracy: 100.00, time: 16.5453 min\n",
      "----------\n",
      "Epoch 15/20, current lr=0.001\n",
      "train loss: 0.003967, val loss: 0.000285, accuracy: 99.94, time: 17.7253 min\n",
      "----------\n",
      "Epoch 16/20, current lr=0.001\n",
      "train loss: 0.000421, val loss: 0.000199, accuracy: 99.87, time: 18.9066 min\n",
      "----------\n",
      "Epoch 17/20, current lr=0.001\n",
      "train loss: 0.002736, val loss: 0.000210, accuracy: 99.81, time: 20.0875 min\n",
      "----------\n",
      "Epoch 18/20, current lr=0.001\n",
      "train loss: 0.000945, val loss: 0.000260, accuracy: 99.81, time: 21.2707 min\n",
      "----------\n",
      "Epoch 19/20, current lr=0.001\n",
      "Get best val_loss\n",
      "train loss: 0.000319, val loss: 0.000084, accuracy: 100.00, time: 22.4515 min\n",
      "----------\n",
      "Epoch 20/20, current lr=0.001\n",
      "train loss: 0.000178, val loss: 0.000188, accuracy: 99.87, time: 23.6278 min\n",
      "----------\n"
     ]
    }
   ],
   "source": [
    "import time\n",
    "model, loss_hist, metric_hist = train_val(model, params_train)"
   ]
  },
  {
   "cell_type": "code",
   "execution_count": 25,
   "metadata": {},
   "outputs": [],
   "source": [
    "res_1 = torch.load('./model/resnet_1.pt')\n",
    "res_2 = torch.load('./model/resnet_2.pt')"
   ]
  },
  {
   "cell_type": "code",
   "execution_count": 26,
   "metadata": {},
   "outputs": [
    {
     "name": "stderr",
     "output_type": "stream",
     "text": [
      "100%|████████████████████████████████████████████████████████████████████████████████| 147/147 [00:05<00:00, 27.50it/s]"
     ]
    },
    {
     "name": "stdout",
     "output_type": "stream",
     "text": [
      "Test_Accuracy : 50.68027210884354\n"
     ]
    },
    {
     "name": "stderr",
     "output_type": "stream",
     "text": [
      "\n"
     ]
    }
   ],
   "source": [
    "model.eval()\n",
    "Test_ACC = 0\n",
    "with torch.no_grad():\n",
    "    for x, y in tqdm(test_DataLoader):\n",
    "#     for x, y in test_DataLoader:\n",
    "            \n",
    "        x,y = x.to(device), y.to(device)\n",
    "        output_0= res_1(x)\n",
    "        output_1 = res_2(x)\n",
    "        \n",
    "        output = (output_0.softmax(dim=1) + output_1.softmax(dim =1))/2\n",
    "        \n",
    "        loss=criterion(output, y)\n",
    "\n",
    "        ps = torch.exp(output)\n",
    "        top_p, top_class = ps.topk(1, dim=1)\n",
    "        equals = top_class == y.view(*top_class.shape)\n",
    "        Test_ACC += torch.mean(equals.type(torch.FloatTensor)).item()\n",
    "        \n",
    "\n",
    "Test_ACC=(Test_ACC/len(test_DataLoader))*100\n",
    "\n",
    "print(f'Test_Accuracy : {Test_ACC}')\n"
   ]
  },
  {
   "cell_type": "markdown",
   "metadata": {},
   "source": [
    "## Model Efficientnet"
   ]
  },
  {
   "cell_type": "code",
   "execution_count": 27,
   "metadata": {},
   "outputs": [
    {
     "name": "stdout",
     "output_type": "stream",
     "text": [
      "output size: torch.Size([3, 3, 224, 224])\n"
     ]
    }
   ],
   "source": [
    "import copy\n",
    "\n",
    "class Swish(nn.Module): \n",
    "    def __init__(self):\n",
    "        super().__init__()\n",
    "        self.sigmoid = nn.Sigmoid()\n",
    "\n",
    "    def forward(self, x):\n",
    "        return x * self.sigmoid(x)\n",
    "\n",
    "# check\n",
    "if __name__ == '__main__':\n",
    "    x = torch.randn(3, 3, 224, 224)\n",
    "    model = Swish()\n",
    "    output = model(x)\n",
    "    print('output size:', output.size())"
   ]
  },
  {
   "cell_type": "code",
   "execution_count": 28,
   "metadata": {},
   "outputs": [
    {
     "name": "stdout",
     "output_type": "stream",
     "text": [
      "output size: torch.Size([3, 56, 1, 1])\n"
     ]
    }
   ],
   "source": [
    "class SEBlock(nn.Module): \n",
    "    def __init__(self, in_channels, r=4):\n",
    "        super().__init__()\n",
    "\n",
    "        self.squeeze = nn.AdaptiveAvgPool2d((1,1))\n",
    "        self.excitation = nn.Sequential(\n",
    "            nn.Linear(in_channels, in_channels * r),\n",
    "            Swish(),\n",
    "            nn.Linear(in_channels * r, in_channels),\n",
    "            nn.Sigmoid()\n",
    "        )\n",
    "\n",
    "    def forward(self, x):\n",
    "        x = self.squeeze(x)\n",
    "        x = x.view(x.size(0), -1)\n",
    "        x = self.excitation(x)\n",
    "        x = x.view(x.size(0), x.size(1), 1, 1)\n",
    "        return x\n",
    "\n",
    "# check\n",
    "if __name__ == '__main__':\n",
    "    x = torch.randn(3, 56, 17, 17)\n",
    "    model = SEBlock(x.size(1))\n",
    "    output = model(x)\n",
    "    print('output size:', output.size())"
   ]
  },
  {
   "cell_type": "code",
   "execution_count": 29,
   "metadata": {},
   "outputs": [
    {
     "name": "stdout",
     "output_type": "stream",
     "text": [
      "output size: torch.Size([3, 16, 24, 24]) Stochastic depth: tensor(False)\n"
     ]
    }
   ],
   "source": [
    "class MBConv(nn.Module): \n",
    "    expand = 6\n",
    "    def __init__(self, in_channels, out_channels, kernel_size, stride=1, se_scale=4, p=0.5):\n",
    "        super().__init__()\n",
    "        # first MBConv is not using stochastic depth\n",
    "        self.p = torch.tensor(p).float() if (in_channels == out_channels) else torch.tensor(1).float()\n",
    "\n",
    "        self.residual = nn.Sequential(\n",
    "            nn.Conv2d(in_channels, in_channels * MBConv.expand, 1, stride=stride, padding=0, bias=False),\n",
    "            nn.BatchNorm2d(in_channels * MBConv.expand, momentum=0.99, eps=1e-3),\n",
    "            Swish(),\n",
    "            nn.Conv2d(in_channels * MBConv.expand, in_channels * MBConv.expand, kernel_size=kernel_size,\n",
    "                      stride=1, padding=kernel_size//2, bias=False, groups=in_channels*MBConv.expand),\n",
    "            nn.BatchNorm2d(in_channels * MBConv.expand, momentum=0.99, eps=1e-3),\n",
    "            Swish()\n",
    "        )\n",
    "\n",
    "        self.se = SEBlock(in_channels * MBConv.expand, se_scale)\n",
    "\n",
    "        self.project = nn.Sequential(\n",
    "            nn.Conv2d(in_channels*MBConv.expand, out_channels, kernel_size=1, stride=1, padding=0, bias=False),\n",
    "            nn.BatchNorm2d(out_channels, momentum=0.99, eps=1e-3)\n",
    "        )\n",
    "\n",
    "        self.shortcut = (stride == 1) and (in_channels == out_channels)\n",
    "\n",
    "    def forward(self, x):\n",
    "        # stochastic depth\n",
    "        if self.training:\n",
    "            if not torch.bernoulli(self.p):\n",
    "                return x\n",
    "\n",
    "        x_shortcut = x\n",
    "        x_residual = self.residual(x)\n",
    "        x_se = self.se(x_residual)\n",
    "\n",
    "        x = x_se * x_residual\n",
    "        x = self.project(x)\n",
    "\n",
    "        if self.shortcut:\n",
    "            x= x_shortcut + x\n",
    "\n",
    "        return x\n",
    "\n",
    "# check\n",
    "if __name__ == '__main__':\n",
    "    x = torch.randn(3, 16, 24, 24)\n",
    "    model = MBConv(x.size(1), x.size(1), 3, stride=1, p=1)\n",
    "    model.train()\n",
    "    output = model(x)\n",
    "    x = (output == x)\n",
    "    print('output size:', output.size(), 'Stochastic depth:', x[1,0,0,0])"
   ]
  },
  {
   "cell_type": "code",
   "execution_count": 30,
   "metadata": {},
   "outputs": [],
   "source": [
    "class MBConv1(MBConv):\n",
    "  def __init__(self, n_in, n_out, kernel_size=3,\n",
    "               stride=1, r=24, p=0):\n",
    "    super().__init__(n_in, n_out, expansion_factor=1,\n",
    "                     kernel_size=kernel_size, stride=stride,\n",
    "                     r=r, p=p)\n",
    "    \n",
    " \n",
    "class MBConv6(MBConv):\n",
    "  def __init__(self, n_in, n_out, kernel_size=3,\n",
    "               stride=1, r=24, p=0):\n",
    "    super().__init__(n_in, n_out, expansion_factor=6,\n",
    "                     kernel_size=kernel_size, stride=stride,\n",
    "                     r=r, p=p)"
   ]
  },
  {
   "cell_type": "code",
   "execution_count": 31,
   "metadata": {},
   "outputs": [
    {
     "name": "stdout",
     "output_type": "stream",
     "text": [
      "output size: torch.Size([3, 16, 24, 24]) Stochastic depth: tensor(False)\n"
     ]
    }
   ],
   "source": [
    "class SepConv(nn.Module): \n",
    "    expand = 1\n",
    "    def __init__(self, in_channels, out_channels, kernel_size, stride=1, se_scale=4, p=0.5):\n",
    "        super().__init__()\n",
    "        # first SepConv is not using stochastic depth\n",
    "        self.p = torch.tensor(p).float() if (in_channels == out_channels) else torch.tensor(1).float()\n",
    "\n",
    "        self.residual = nn.Sequential(\n",
    "            nn.Conv2d(in_channels * SepConv.expand, in_channels * SepConv.expand, kernel_size=kernel_size,\n",
    "                      stride=1, padding=kernel_size//2, bias=False, groups=in_channels*SepConv.expand),\n",
    "            nn.BatchNorm2d(in_channels * SepConv.expand, momentum=0.99, eps=1e-3),\n",
    "            Swish()\n",
    "        )\n",
    "\n",
    "        self.se = SEBlock(in_channels * SepConv.expand, se_scale)\n",
    "\n",
    "        self.project = nn.Sequential(\n",
    "            nn.Conv2d(in_channels*SepConv.expand, out_channels, kernel_size=1, stride=1, padding=0, bias=False),\n",
    "            nn.BatchNorm2d(out_channels, momentum=0.99, eps=1e-3)\n",
    "        )\n",
    "\n",
    "        self.shortcut = (stride == 1) and (in_channels == out_channels)\n",
    "\n",
    "    def forward(self, x):\n",
    "        # stochastic depth\n",
    "        if self.training:\n",
    "            if not torch.bernoulli(self.p):\n",
    "                return x\n",
    "\n",
    "        x_shortcut = x\n",
    "        x_residual = self.residual(x)\n",
    "        x_se = self.se(x_residual)\n",
    "\n",
    "        x = x_se * x_residual\n",
    "        x = self.project(x)\n",
    "\n",
    "        if self.shortcut:\n",
    "            x= x_shortcut + x\n",
    "\n",
    "        return x\n",
    "\n",
    "# check\n",
    "if __name__ == '__main__':\n",
    "    x = torch.randn(3, 16, 24, 24)\n",
    "    model = SepConv(x.size(1), x.size(1), 3, stride=1, p=1)\n",
    "    model.train()\n",
    "    output = model(x)\n",
    "    # stochastic depth check\n",
    "    x = (output == x)\n",
    "    print('output size:', output.size(), 'Stochastic depth:', x[1,0,0,0])"
   ]
  },
  {
   "cell_type": "code",
   "execution_count": 32,
   "metadata": {},
   "outputs": [
    {
     "name": "stdout",
     "output_type": "stream",
     "text": [
      "output size: torch.Size([3, 2])\n"
     ]
    }
   ],
   "source": [
    "class EfficientNet(nn.Module):\n",
    "    def __init__(self, num_classes=2, width_coef=1., depth_coef=1., scale=1., dropout=0.2, se_scale=4, stochastic_depth=False, p=0.5):\n",
    "        super().__init__()\n",
    "        channels = [32, 16, 24, 40, 80, 112, 192, 320, 1280]\n",
    "        repeats = [1, 2, 2, 3, 3, 4, 1]\n",
    "        strides = [1, 2, 2, 2, 1, 2, 1]\n",
    "        kernel_size = [3, 3, 5, 3, 5, 5, 3]\n",
    "        depth = depth_coef\n",
    "        width = width_coef\n",
    "\n",
    "        channels = [int(x*width) for x in channels]\n",
    "        repeats = [int(x*depth) for x in repeats]\n",
    "\n",
    "        # stochastic depth\n",
    "        if stochastic_depth:\n",
    "            self.p = p\n",
    "            self.step = (1 - 0.5) / (sum(repeats) - 1)\n",
    "        else:\n",
    "            self.p = 1\n",
    "            self.step = 0\n",
    "\n",
    "\n",
    "        # efficient net\n",
    "        self.upsample = nn.Upsample(scale_factor=scale, mode='bilinear', align_corners=False)\n",
    "\n",
    "        self.stage1 = nn.Sequential(\n",
    "            nn.Conv2d(3, channels[0],3, stride=2, padding=1, bias=False),\n",
    "            nn.BatchNorm2d(channels[0], momentum=0.99, eps=1e-3)\n",
    "        )\n",
    "\n",
    "        self.stage2 = self._make_Block(SepConv, repeats[0], channels[0], channels[1], kernel_size[0], strides[0], se_scale)\n",
    "\n",
    "        self.stage3 = self._make_Block(MBConv, repeats[1], channels[1], channels[2], kernel_size[1], strides[1], se_scale)\n",
    "\n",
    "        self.stage4 = self._make_Block(MBConv, repeats[2], channels[2], channels[3], kernel_size[2], strides[2], se_scale)\n",
    "\n",
    "        self.stage5 = self._make_Block(MBConv, repeats[3], channels[3], channels[4], kernel_size[3], strides[3], se_scale)\n",
    "\n",
    "        self.stage6 = self._make_Block(MBConv, repeats[4], channels[4], channels[5], kernel_size[4], strides[4], se_scale)\n",
    "\n",
    "        self.stage7 = self._make_Block(MBConv, repeats[5], channels[5], channels[6], kernel_size[5], strides[5], se_scale)\n",
    "\n",
    "        self.stage8 = self._make_Block(MBConv, repeats[6], channels[6], channels[7], kernel_size[6], strides[6], se_scale)\n",
    "\n",
    "        self.stage9 = nn.Sequential(\n",
    "            nn.Conv2d(channels[7], channels[8], 1, stride=1, bias=False),\n",
    "            nn.BatchNorm2d(channels[8], momentum=0.99, eps=1e-3),\n",
    "            Swish()\n",
    "        ) \n",
    "\n",
    "        self.avgpool = nn.AdaptiveAvgPool2d((1,1))\n",
    "        self.dropout = nn.Dropout(p=dropout)\n",
    "        self.linear = nn.Linear(channels[8], num_classes)\n",
    "\n",
    "    def forward(self, x):\n",
    "        x = self.upsample(x)\n",
    "        x = self.stage1(x)\n",
    "        x = self.stage2(x)\n",
    "        x = self.stage3(x)\n",
    "        x = self.stage4(x)\n",
    "        x = self.stage5(x)\n",
    "        x = self.stage6(x)\n",
    "        x = self.stage7(x)\n",
    "        x = self.stage8(x)\n",
    "        x = self.stage9(x)\n",
    "        x = self.avgpool(x)\n",
    "        x = x.view(x.size(0), -1)\n",
    "        x = self.dropout(x)\n",
    "        x = self.linear(x)\n",
    "        return x\n",
    "\n",
    "\n",
    "    def _make_Block(self, block, repeats, in_channels, out_channels, kernel_size, stride, se_scale):\n",
    "        strides = [stride] + [1] * (repeats - 1)\n",
    "        layers = []\n",
    "        for stride in strides:\n",
    "            layers.append(block(in_channels, out_channels, kernel_size, stride, se_scale, self.p))\n",
    "            in_channels = out_channels\n",
    "            self.p -= self.step\n",
    "\n",
    "        return nn.Sequential(*layers)\n",
    "\n",
    "\n",
    "def efficientnet_b0(num_classes=2):\n",
    "    return EfficientNet(num_classes=num_classes, width_coef=1.0, depth_coef=1.0, scale=1.0,dropout=0.2, se_scale=4)\n",
    "\n",
    "def efficientnet_b1(num_classes=2):\n",
    "    return EfficientNet(num_classes=num_classes, width_coef=1.0, depth_coef=1.1, scale=240/224, dropout=0.2, se_scale=4)\n",
    "\n",
    "def efficientnet_b2(num_classes=2):\n",
    "    return EfficientNet(num_classes=num_classes, width_coef=1.1, depth_coef=1.2, scale=260/224., dropout=0.3, se_scale=4)\n",
    "\n",
    "def efficientnet_b3(num_classes=2):\n",
    "    return EfficientNet(num_classes=num_classes, width_coef=1.2, depth_coef=1.4, scale=300/224, dropout=0.3, se_scale=4)\n",
    "\n",
    "def efficientnet_b4(num_classes=2):\n",
    "    return EfficientNet(num_classes=num_classes, width_coef=1.4, depth_coef=1.8, scale=380/224, dropout=0.4, se_scale=4)\n",
    "\n",
    "def efficientnet_b5(num_classes=2):\n",
    "    return EfficientNet(num_classes=num_classes, width_coef=1.6, depth_coef=2.2, scale=456/224, dropout=0.4, se_scale=4)\n",
    "\n",
    "def efficientnet_b6(num_classes=2):\n",
    "    return EfficientNet(num_classes=num_classes, width_coef=1.8, depth_coef=2.6, scale=528/224, dropout=0.5, se_scale=4)\n",
    "\n",
    "def efficientnet_b7(num_classes=2):\n",
    "    return EfficientNet(num_classes=num_classes, width_coef=2.0, depth_coef=3.1, scale=600/224, dropout=0.5, se_scale=4)\n",
    "\n",
    "\n",
    "# check\n",
    "if __name__ == '__main__':\n",
    "    device = torch.device('cuda' if torch.cuda.is_available() else 'cpu')\n",
    "    x = torch.randn(3, 3, 224, 224).to(device)\n",
    "    model = efficientnet_b0().to(device)\n",
    "    output = model(x)\n",
    "    print('output size:', output.size())"
   ]
  },
  {
   "cell_type": "code",
   "execution_count": 33,
   "metadata": {},
   "outputs": [],
   "source": [
    "criterion = nn.CrossEntropyLoss()\n",
    "optimizer = optim.Adam(model.parameters() , lr =1e-3)# ,weight_decay=1e-6)\n",
    "scheduler = torch.optim.lr_scheduler.StepLR(optimizer,10,0.1)"
   ]
  },
  {
   "cell_type": "code",
   "execution_count": 34,
   "metadata": {},
   "outputs": [],
   "source": [
    "loss_func = nn.CrossEntropyLoss(reduction='sum')\n",
    "opt = optim.Adam(model.parameters(), lr=0.01)\n",
    "\n",
    "from torch.optim.lr_scheduler import ReduceLROnPlateau\n",
    "lr_scheduler = ReduceLROnPlateau(opt, mode='min', factor=0.1, patience=10)\n",
    "\n",
    "\n",
    "# get current lr\n",
    "def get_lr(opt):\n",
    "    for param_group in opt.param_groups:\n",
    "        return param_group['lr']\n",
    "\n",
    "\n",
    "# calculate the metric per mini-batch\n",
    "def metric_batch(output, target):\n",
    "    pred = output.argmax(1, keepdim=True)\n",
    "    corrects = pred.eq(target.view_as(pred)).sum().item()\n",
    "    return corrects\n",
    "\n",
    "\n",
    "# calculate the loss per mini-batch\n",
    "def loss_batch(loss_func, output, target, opt=None):\n",
    "    loss_b = loss_func(output, target)\n",
    "    metric_b = metric_batch(output, target)\n",
    "\n",
    "    if opt is not None:\n",
    "        opt.zero_grad()\n",
    "        loss_b.backward()\n",
    "        opt.step()\n",
    "    \n",
    "    return loss_b.item(), metric_b\n",
    "\n",
    "\n",
    "# calculate the loss per epochs\n",
    "def loss_epoch(model, loss_func, dataset_dl, sanity_check=False, opt=None):\n",
    "    running_loss = 0.0\n",
    "    running_metric = 0.0\n",
    "    len_data = len(dataset_dl.dataset)\n",
    "\n",
    "    for xb, yb in dataset_dl:\n",
    "        xb = xb.to(device)\n",
    "        yb = yb.to(device)\n",
    "        output = model(xb)\n",
    "\n",
    "        loss_b, metric_b = loss_batch(loss_func, output, yb, opt)\n",
    "\n",
    "        running_loss += loss_b\n",
    "        \n",
    "        if metric_b is not None:\n",
    "            running_metric += metric_b\n",
    "\n",
    "        if sanity_check is True:\n",
    "            break\n",
    "\n",
    "    loss = running_loss / len_data\n",
    "    metric = running_metric / len_data\n",
    "    return loss, metric\n",
    "\n",
    "\n",
    "# function to start training\n",
    "def train_val(model, params):\n",
    "    num_epochs=params['num_epochs']\n",
    "    loss_func=params['loss_func']\n",
    "    opt=params['optimizer']\n",
    "    train_dl=params['train_dl']\n",
    "    val_dl=params['val_dl']\n",
    "    sanity_check=params['sanity_check']\n",
    "    lr_scheduler=params['lr_scheduler']\n",
    "    path2weights=params['path2weights']\n",
    "\n",
    "    loss_history = {'train': [], 'val': []}\n",
    "    metric_history = {'train': [], 'val': []}\n",
    "\n",
    "    best_loss = float('inf')\n",
    "    best_model_wts = copy.deepcopy(model.state_dict())\n",
    "    start_time = time.time()\n",
    "\n",
    "    for epoch in range(num_epochs):\n",
    "        current_lr = get_lr(opt)\n",
    "        print('Epoch {}/{}, current lr= {}'.format(epoch+1, num_epochs, current_lr))\n",
    "\n",
    "        model.train()\n",
    "        train_loss, train_metric = loss_epoch(model, loss_func, train_dl, sanity_check, opt)\n",
    "        loss_history['train'].append(train_loss)\n",
    "        metric_history['train'].append(train_metric)\n",
    "\n",
    "        model.eval()\n",
    "        with torch.no_grad():\n",
    "            val_loss, val_metric = loss_epoch(model, loss_func, val_dl, sanity_check)\n",
    "        loss_history['val'].append(val_loss)\n",
    "        metric_history['val'].append(val_metric)\n",
    "\n",
    "        if val_loss < best_loss:\n",
    "            best_loss = val_loss\n",
    "            best_model_wts = copy.deepcopy(model.state_dict())\n",
    "            torch.save(model.state_dict(), path2weights)\n",
    "            print('Copied best model weights!')\n",
    "\n",
    "        lr_scheduler.step(val_loss)\n",
    "        if current_lr != get_lr(opt):\n",
    "            print('Loading best model weights!')\n",
    "            model.load_state_dict(best_model_wts)\n",
    "\n",
    "        print('train loss: %.6f, val loss: %.6f, accuracy: %.2f, time: %.4f min' %(train_loss, val_loss, 100*val_metric, (time.time()-start_time)/60))\n",
    "        print('-'*10)\n",
    "\n",
    "    #save model    \n",
    "    torch.save(model, f'model/Efficent_1.pt')\n",
    "    \n",
    "    \n",
    "    model.load_state_dict(best_model_wts)\n",
    "    return model, loss_history, metric_history"
   ]
  },
  {
   "cell_type": "code",
   "execution_count": 35,
   "metadata": {},
   "outputs": [],
   "source": [
    "params_train = {\n",
    "    'num_epochs':10,\n",
    "    'optimizer':opt,\n",
    "    'loss_func':loss_func,\n",
    "    'train_dl':train_DataLoader,\n",
    "    'val_dl':valid_DataLoader,\n",
    "    'sanity_check':False,\n",
    "    'lr_scheduler':lr_scheduler,\n",
    "    'path2weights':'./models/weights.pt',\n",
    "}\n",
    "\n",
    "# check the directory to save weights.pt\n",
    "def createFolder(directory):\n",
    "    try:\n",
    "        if not os.path.exists(directory):\n",
    "            os.makedirs(directory)\n",
    "    except OSerror:\n",
    "        print('Error')\n",
    "createFolder('./models')"
   ]
  },
  {
   "cell_type": "code",
   "execution_count": 36,
   "metadata": {},
   "outputs": [
    {
     "name": "stdout",
     "output_type": "stream",
     "text": [
      "Epoch 1/10, current lr= 0.01\n",
      "Copied best model weights!\n",
      "train loss: 0.134578, val loss: 0.042642, accuracy: 98.98, time: 1.1858 min\n",
      "----------\n",
      "Epoch 2/10, current lr= 0.01\n",
      "Copied best model weights!\n",
      "train loss: 0.027236, val loss: 0.010372, accuracy: 99.68, time: 2.4373 min\n",
      "----------\n",
      "Epoch 3/10, current lr= 0.01\n",
      "train loss: 0.015030, val loss: 0.020035, accuracy: 99.49, time: 3.6767 min\n",
      "----------\n",
      "Epoch 4/10, current lr= 0.01\n",
      "train loss: 0.015252, val loss: 0.018265, accuracy: 99.42, time: 4.9185 min\n",
      "----------\n",
      "Epoch 5/10, current lr= 0.01\n",
      "Copied best model weights!\n",
      "train loss: 0.021049, val loss: 0.000946, accuracy: 100.00, time: 6.1674 min\n",
      "----------\n",
      "Epoch 6/10, current lr= 0.01\n",
      "train loss: 0.020024, val loss: 0.013151, accuracy: 99.49, time: 7.4090 min\n",
      "----------\n",
      "Epoch 7/10, current lr= 0.01\n",
      "train loss: 0.011429, val loss: 0.015459, accuracy: 99.36, time: 8.6758 min\n",
      "----------\n",
      "Epoch 8/10, current lr= 0.01\n",
      "train loss: 0.006384, val loss: 0.146711, accuracy: 97.76, time: 9.9662 min\n",
      "----------\n",
      "Epoch 9/10, current lr= 0.01\n",
      "train loss: 0.016989, val loss: 0.001794, accuracy: 99.94, time: 11.2438 min\n",
      "----------\n",
      "Epoch 10/10, current lr= 0.01\n",
      "train loss: 0.011456, val loss: 0.003677, accuracy: 99.81, time: 12.5274 min\n",
      "----------\n"
     ]
    }
   ],
   "source": [
    "import time\n",
    "model, loss_hist, metric_hist = train_val(model, params_train)"
   ]
  },
  {
   "cell_type": "code",
   "execution_count": 37,
   "metadata": {},
   "outputs": [],
   "source": [
    "loss_func = nn.CrossEntropyLoss(reduction='sum')\n",
    "opt = optim.Adam(model.parameters(), lr=0.01)\n",
    "\n",
    "from torch.optim.lr_scheduler import ReduceLROnPlateau\n",
    "lr_scheduler = ReduceLROnPlateau(opt, mode='min', factor=0.1, patience=10)\n",
    "\n",
    "\n",
    "# get current lr\n",
    "def get_lr(opt):\n",
    "    for param_group in opt.param_groups:\n",
    "        return param_group['lr']\n",
    "\n",
    "\n",
    "# calculate the metric per mini-batch\n",
    "def metric_batch(output, target):\n",
    "    pred = output.argmax(1, keepdim=True)\n",
    "    corrects = pred.eq(target.view_as(pred)).sum().item()\n",
    "    return corrects\n",
    "\n",
    "\n",
    "# calculate the loss per mini-batch\n",
    "def loss_batch(loss_func, output, target, opt=None):\n",
    "    loss_b = loss_func(output, target)\n",
    "    metric_b = metric_batch(output, target)\n",
    "\n",
    "    if opt is not None:\n",
    "        opt.zero_grad()\n",
    "        loss_b.backward()\n",
    "        opt.step()\n",
    "    \n",
    "    return loss_b.item(), metric_b\n",
    "\n",
    "\n",
    "# calculate the loss per epochs\n",
    "def loss_epoch(model, loss_func, dataset_dl, sanity_check=False, opt=None):\n",
    "    running_loss = 0.0\n",
    "    running_metric = 0.0\n",
    "    len_data = len(dataset_dl.dataset)\n",
    "\n",
    "    for xb, yb in dataset_dl:\n",
    "        xb = xb.to(device)\n",
    "        yb = yb.to(device)\n",
    "        output = model(xb)\n",
    "\n",
    "        loss_b, metric_b = loss_batch(loss_func, output, yb, opt)\n",
    "\n",
    "        running_loss += loss_b\n",
    "        \n",
    "        if metric_b is not None:\n",
    "            running_metric += metric_b\n",
    "\n",
    "        if sanity_check is True:\n",
    "            break\n",
    "\n",
    "    loss = running_loss / len_data\n",
    "    metric = running_metric / len_data\n",
    "    return loss, metric\n",
    "\n",
    "\n",
    "# function to start training\n",
    "def train_val(model, params):\n",
    "    num_epochs=params['num_epochs']\n",
    "    loss_func=params['loss_func']\n",
    "    opt=params['optimizer']\n",
    "    train_dl=params['train_dl']\n",
    "    val_dl=params['val_dl']\n",
    "    sanity_check=params['sanity_check']\n",
    "    \n",
    "    lr_scheduler=params['lr_scheduler']\n",
    "    path2weights=params['path2weights']\n",
    "\n",
    "    loss_history = {'train': [], 'val': []}\n",
    "    metric_history = {'train': [], 'val': []}\n",
    "\n",
    "    best_loss = float('inf')\n",
    "    best_model_wts = copy.deepcopy(model.state_dict())\n",
    "    start_time = time.time()\n",
    "\n",
    "    for epoch in range(num_epochs):\n",
    "        current_lr = get_lr(opt)\n",
    "        print('Epoch {}/{}, current lr= {}'.format(epoch+1, num_epochs, current_lr))\n",
    "\n",
    "        model.train()\n",
    "        train_loss, train_metric = loss_epoch(model, loss_func, train_dl, sanity_check, opt)\n",
    "        loss_history['train'].append(train_loss)\n",
    "        metric_history['train'].append(train_metric)\n",
    "\n",
    "        model.eval()\n",
    "        with torch.no_grad():\n",
    "            val_loss, val_metric = loss_epoch(model, loss_func, val_dl, sanity_check)\n",
    "        loss_history['val'].append(val_loss)\n",
    "        metric_history['val'].append(val_metric)\n",
    "\n",
    "        if val_loss < best_loss:\n",
    "            best_loss = val_loss\n",
    "            best_model_wts = copy.deepcopy(model.state_dict())\n",
    "            torch.save(model.state_dict(), path2weights)\n",
    "            print('Copied best model weights!')\n",
    "\n",
    "        lr_scheduler.step(val_loss)\n",
    "        if current_lr != get_lr(opt):\n",
    "            print('Loading best model weights!')\n",
    "            model.load_state_dict(best_model_wts)\n",
    "\n",
    "        print('train loss: %.6f, val loss: %.6f, accuracy: %.2f, time: %.4f min' %(train_loss, val_loss, 100*val_metric, (time.time()-start_time)/60))\n",
    "        print('-'*10)\n",
    "\n",
    "    #save model    \n",
    "    torch.save(model, f'model/Efficent_2.pt')\n",
    "    \n",
    "    \n",
    "    model.load_state_dict(best_model_wts)\n",
    "    return model, loss_history, metric_history"
   ]
  },
  {
   "cell_type": "code",
   "execution_count": 38,
   "metadata": {},
   "outputs": [
    {
     "name": "stdout",
     "output_type": "stream",
     "text": [
      "Epoch 1/10, current lr= 0.01\n",
      "Copied best model weights!\n",
      "train loss: 0.100431, val loss: 0.015428, accuracy: 99.36, time: 1.2762 min\n",
      "----------\n",
      "Epoch 2/10, current lr= 0.01\n",
      "Copied best model weights!\n",
      "train loss: 0.014318, val loss: 0.003719, accuracy: 99.87, time: 2.5486 min\n",
      "----------\n",
      "Epoch 3/10, current lr= 0.01\n",
      "train loss: 0.012521, val loss: 0.013054, accuracy: 99.30, time: 3.8244 min\n",
      "----------\n",
      "Epoch 4/10, current lr= 0.01\n",
      "Copied best model weights!\n",
      "train loss: 0.006160, val loss: 0.003065, accuracy: 99.87, time: 5.0870 min\n",
      "----------\n",
      "Epoch 5/10, current lr= 0.01\n",
      "Copied best model weights!\n",
      "train loss: 0.006775, val loss: 0.002191, accuracy: 99.94, time: 6.3714 min\n",
      "----------\n",
      "Epoch 6/10, current lr= 0.01\n",
      "Loading best model weights!\n",
      "train loss: 0.010690, val loss: 0.026014, accuracy: 99.23, time: 7.6611 min\n",
      "----------\n",
      "Epoch 7/10, current lr= 0.001\n",
      "train loss: 0.004351, val loss: 0.004691, accuracy: 99.87, time: 8.9437 min\n",
      "----------\n",
      "Epoch 8/10, current lr= 0.001\n",
      "train loss: 0.001710, val loss: 0.004494, accuracy: 99.94, time: 10.2389 min\n",
      "----------\n",
      "Epoch 9/10, current lr= 0.001\n",
      "train loss: 0.001590, val loss: 0.002555, accuracy: 99.87, time: 11.5184 min\n",
      "----------\n",
      "Epoch 10/10, current lr= 0.001\n",
      "train loss: 0.001471, val loss: 0.008968, accuracy: 99.87, time: 12.8008 min\n",
      "----------\n"
     ]
    }
   ],
   "source": [
    "import time\n",
    "model, loss_hist, metric_hist = train_val(model, params_train)"
   ]
  },
  {
   "cell_type": "code",
   "execution_count": 39,
   "metadata": {},
   "outputs": [],
   "source": [
    "eff_1 = torch.load('./model/Efficent_1.pt')\n",
    "eff_2 = torch.load('./model/Efficent_2.pt')"
   ]
  },
  {
   "cell_type": "code",
   "execution_count": 40,
   "metadata": {},
   "outputs": [
    {
     "name": "stderr",
     "output_type": "stream",
     "text": [
      "100%|████████████████████████████████████████████████████████████████████████████████| 147/147 [00:03<00:00, 42.57it/s]"
     ]
    },
    {
     "name": "stdout",
     "output_type": "stream",
     "text": [
      "Test_Accuracy : 50.87868482077202\n"
     ]
    },
    {
     "name": "stderr",
     "output_type": "stream",
     "text": [
      "\n"
     ]
    }
   ],
   "source": [
    "model.eval()\n",
    "Test_ACC = 0\n",
    "with torch.no_grad():\n",
    "    for x, y in tqdm(test_DataLoader):\n",
    "#     for x, y in test_DataLoader:\n",
    "            \n",
    "        x,y = x.to(device), y.to(device)\n",
    "        output = eff_1(x)\n",
    "        output_effi = eff_2(x)\n",
    "        \n",
    "        output = (output+output_effi)/2\n",
    "        output = output.softmax(dim = 1)\n",
    "        #output = eff_2(x)\n",
    "        loss=criterion( output, y)\n",
    "\n",
    "        ps = torch.exp(output)\n",
    "        top_p, top_class = ps.topk(1, dim=1)\n",
    "        equals = top_class == y.view(*top_class.shape)\n",
    "        Test_ACC += torch.mean(equals.type(torch.FloatTensor)).item()\n",
    "        \n",
    "\n",
    "Test_ACC=(Test_ACC/len(test_DataLoader))*100\n",
    "\n",
    "print(f'Test_Accuracy : {Test_ACC}')\n"
   ]
  },
  {
   "cell_type": "code",
   "execution_count": 41,
   "metadata": {},
   "outputs": [
    {
     "data": {
      "text/plain": [
       "torch.Size([3, 2])"
      ]
     },
     "execution_count": 41,
     "metadata": {},
     "output_type": "execute_result"
    }
   ],
   "source": [
    "output.shape"
   ]
  },
  {
   "cell_type": "code",
   "execution_count": null,
   "metadata": {},
   "outputs": [],
   "source": []
  },
  {
   "cell_type": "code",
   "execution_count": null,
   "metadata": {},
   "outputs": [],
   "source": []
  },
  {
   "cell_type": "markdown",
   "metadata": {},
   "source": [
    "## Accuracy"
   ]
  },
  {
   "cell_type": "code",
   "execution_count": 42,
   "metadata": {},
   "outputs": [],
   "source": [
    "vgg_1 = torch.load('./model/vgg16_simpson.pt')\n",
    "vgg_2 = torch.load('./model/vgg16_simpson2.pt')"
   ]
  },
  {
   "cell_type": "markdown",
   "metadata": {},
   "source": [
    "### vgg16_Test Accuracy "
   ]
  },
  {
   "cell_type": "code",
   "execution_count": 43,
   "metadata": {},
   "outputs": [
    {
     "name": "stderr",
     "output_type": "stream",
     "text": [
      "100%|████████████████████████████████████████████████████████████████████████████████| 147/147 [00:02<00:00, 66.19it/s]"
     ]
    },
    {
     "name": "stdout",
     "output_type": "stream",
     "text": [
      "Test_Accuracy : 50.45351475274482\n"
     ]
    },
    {
     "name": "stderr",
     "output_type": "stream",
     "text": [
      "\n"
     ]
    }
   ],
   "source": [
    "model.eval()\n",
    "Test_ACC = 0\n",
    "with torch.no_grad():\n",
    "    for x, y in tqdm(test_DataLoader):\n",
    "#     for x, y in test_DataLoader:\n",
    "            \n",
    "        x,y = x.to(device), y.to(device)\n",
    "        output = vgg_1(x)\n",
    "        output_effi = vgg_2(x)\n",
    "\n",
    "        output = (output+output_effi)/2\n",
    "        output = output.softmax(dim = 1)\n",
    "        \n",
    "        loss=criterion( output, y)\n",
    "        ps = torch.exp(output)\n",
    "        top_p, top_class = ps.topk(1, dim=1)\n",
    "        equals = top_class == y.view(*top_class.shape)\n",
    "        Test_ACC += torch.mean(equals.type(torch.FloatTensor)).item()\n",
    "        \n",
    "\n",
    "Test_ACC=(Test_ACC/len(test_DataLoader))*100\n",
    "\n",
    "print(f'Test_Accuracy : {Test_ACC}')\n"
   ]
  },
  {
   "cell_type": "markdown",
   "metadata": {},
   "source": [
    "### Efficient_Test Accuracy "
   ]
  },
  {
   "cell_type": "code",
   "execution_count": 44,
   "metadata": {},
   "outputs": [],
   "source": [
    "model_1 = torch.load('./model/Efficent_1.pt')\n",
    "model_2 = torch.load('./model/Efficent_2.pt')"
   ]
  },
  {
   "cell_type": "code",
   "execution_count": 45,
   "metadata": {},
   "outputs": [
    {
     "name": "stderr",
     "output_type": "stream",
     "text": [
      "100%|████████████████████████████████████████████████████████████████████████████████| 147/147 [00:03<00:00, 43.18it/s]"
     ]
    },
    {
     "name": "stdout",
     "output_type": "stream",
     "text": [
      "Test_Accuracy : 50.736961458005055\n"
     ]
    },
    {
     "name": "stderr",
     "output_type": "stream",
     "text": [
      "\n"
     ]
    }
   ],
   "source": [
    "model.eval()\n",
    "Test_ACC = 0\n",
    "with torch.no_grad():\n",
    "    for x, y in tqdm(test_DataLoader):\n",
    "#     for x, y in test_DataLoader:\n",
    "            \n",
    "        x,y = x.to(device), y.to(device)\n",
    "        output = model_1(x)\n",
    "        output_effi = model_2(x)\n",
    "\n",
    "        output = (output+output_effi)/2\n",
    "        output = output.softmax(dim = 1)\n",
    "        \n",
    "        loss=criterion( output, y)\n",
    "        ps = torch.exp(output)\n",
    "        top_p, top_class = ps.topk(1, dim=1)\n",
    "        equals = top_class == y.view(*top_class.shape)\n",
    "        Test_ACC += torch.mean(equals.type(torch.FloatTensor)).item()\n",
    "        \n",
    "\n",
    "Test_ACC=(Test_ACC/len(test_DataLoader))*100\n",
    "\n",
    "print(f'Test_Accuracy : {Test_ACC}')\n"
   ]
  },
  {
   "cell_type": "markdown",
   "metadata": {},
   "source": [
    "## Ensemble"
   ]
  },
  {
   "cell_type": "code",
   "execution_count": 46,
   "metadata": {},
   "outputs": [],
   "source": [
    "model_1 = torch.load('./model/vgg16_simpson_1.pt')\n",
    "model_2 = torch.load('./model/vgg16_simpson2.pt')\n",
    "\n",
    "model_3 = torch.load('./model/resnet_1.pt')\n",
    "model_4 = torch.load('./model/resnet_2.pt')\n",
    "\n",
    "model_5 = torch.load('./model/Efficent_1.pt')\n",
    "model_6 = torch.load('./model/Efficent_2.pt')"
   ]
  },
  {
   "cell_type": "code",
   "execution_count": 47,
   "metadata": {},
   "outputs": [
    {
     "name": "stderr",
     "output_type": "stream",
     "text": [
      "100%|████████████████████████████████████████████████████████████████████████████████| 147/147 [00:06<00:00, 22.97it/s]"
     ]
    },
    {
     "name": "stdout",
     "output_type": "stream",
     "text": [
      "Test_Accuracy : 50.96371883437747\n"
     ]
    },
    {
     "name": "stderr",
     "output_type": "stream",
     "text": [
      "\n"
     ]
    }
   ],
   "source": [
    "model.eval()\n",
    "Test_ACC = 0\n",
    "with torch.no_grad():\n",
    "    for x, y in tqdm(test_DataLoader):\n",
    "#     for x, y in test_DataLoader:\n",
    "            \n",
    "        x,y = x.to(device), y.to(device)\n",
    "        output1 = model_1(x)\n",
    "        output2 = model_2(x)\n",
    "        output3 = model_3(x)\n",
    "        output4 = model_4(x)\n",
    "        output5 = model_5(x)\n",
    "        output6 = model_6(x)\n",
    "        \n",
    "        \n",
    "        output = (output1+output2+output3+output4+output5+output6)/6\n",
    "        output = output.softmax(dim =1)\n",
    "\n",
    "        \n",
    "        loss=criterion(output, y)\n",
    "\n",
    "        ps = torch.exp(output)\n",
    "        top_p, top_class = ps.topk(1, dim=1)\n",
    "        equals = top_class == y.view(*top_class.shape)\n",
    "        Test_ACC += torch.mean(equals.type(torch.FloatTensor)).item()\n",
    "        \n",
    "\n",
    "Test_ACC=(Test_ACC/len(test_DataLoader))*100\n",
    "\n",
    "print(f'Test_Accuracy : {Test_ACC}')\n"
   ]
  },
  {
   "cell_type": "code",
   "execution_count": 48,
   "metadata": {},
   "outputs": [
    {
     "name": "stderr",
     "output_type": "stream",
     "text": [
      "100%|███████████████████████████████████████████████████████████████████████████████| 147/147 [00:01<00:00, 101.85it/s]"
     ]
    },
    {
     "name": "stdout",
     "output_type": "stream",
     "text": [
      "Test_Accuracy : 61.84807257587407\n"
     ]
    },
    {
     "name": "stderr",
     "output_type": "stream",
     "text": [
      "\n"
     ]
    }
   ],
   "source": [
    "model_1 = torch.load('./model/vgg16_simpson_1.pt')\n",
    "\n",
    "model.eval()\n",
    "Test_ACC = 0\n",
    "with torch.no_grad():\n",
    "    for x, y in tqdm(test_DataLoader):\n",
    "#     for x, y in test_DataLoader:\n",
    "            \n",
    "        x,y = x.to(device), y.to(device)\n",
    "        output = model_1(x)\n",
    "        \n",
    "        output = output.softmax(dim = 1)\n",
    "        \n",
    "        loss=criterion( output, y)\n",
    "        ps = torch.exp(output)\n",
    "        top_p, top_class = ps.topk(1, dim=1)\n",
    "        equals = top_class == y.view(*top_class.shape)\n",
    "        Test_ACC += torch.mean(equals.type(torch.FloatTensor)).item()\n",
    "        \n",
    "\n",
    "Test_ACC=(Test_ACC/len(test_DataLoader))*100\n",
    "\n",
    "print(f'Test_Accuracy : {Test_ACC}')\n"
   ]
  },
  {
   "cell_type": "markdown",
   "metadata": {},
   "source": [
    "## Result"
   ]
  },
  {
   "cell_type": "code",
   "execution_count": 49,
   "metadata": {},
   "outputs": [],
   "source": [
    "classes = ['fake','real']"
   ]
  },
  {
   "cell_type": "code",
   "execution_count": 50,
   "metadata": {},
   "outputs": [
    {
     "name": "stdout",
     "output_type": "stream",
     "text": [
      "Test Loss: 7.837883\n",
      "\n",
      "Test Accuracy: 0.506519\n",
      "\n",
      "Test Accuracy of  fake:  1% ( 6/581)\n",
      "Test Accuracy of  real: 99% (588/590)\n"
     ]
    }
   ],
   "source": [
    "import torch.nn.functional as F\n",
    "# track test loss\n",
    "test_loss = 0.0\n",
    "test_acc = 0.0\n",
    "\n",
    "class_correct = torch.zeros(10)\n",
    "class_total = torch.zeros(10)\n",
    "\n",
    "model.eval()\n",
    "# iterate over test data\n",
    "for data, labels in test_DataLoader:\n",
    "    # move tensors to GPU if CUDA is available\n",
    "    data, labels = data.to(device), labels.to(device)\n",
    "    # forward pass: compute predicted outputs by passing inputs to the model\n",
    "    logits = model(data)\n",
    "    # calculate the batch loss\n",
    "    loss = criterion(logits, labels)\n",
    "    # update test loss \n",
    "    test_loss += loss.item()\n",
    "    \n",
    "    ps = F.softmax(logits, dim=1)\n",
    "    top_p, top_class = ps.topk(1, dim=1)\n",
    "    equals = top_class == labels.reshape(top_class.shape)\n",
    "    test_acc += torch.mean(equals.type(torch.float)).detach().cpu()\n",
    "    \n",
    "    for i in range(len(data)):\n",
    "        label = labels[i]\n",
    "        class_correct[label] += equals[i].item()\n",
    "        class_total[label] += 1\n",
    "    \n",
    "\n",
    "# average test loss\n",
    "test_loss = test_loss/len(test_DataLoader)\n",
    "test_acc = test_acc/len(test_DataLoader)\n",
    "print('Test Loss: {:.6f}\\n'.format(test_loss))\n",
    "print('Test Accuracy: {:.6f}\\n'.format(test_acc))\n",
    "\n",
    "for i in range(10):\n",
    "    if class_total[i] > 0:\n",
    "        print('Test Accuracy of %5s: %2d%% (%2d/%2d)' % (\n",
    "            classes[i], 100 * class_correct[i] / class_total[i],\n",
    "            torch.sum(class_correct[i]), torch.sum(class_total[i])))"
   ]
  },
  {
   "cell_type": "code",
   "execution_count": 51,
   "metadata": {},
   "outputs": [],
   "source": [
    "def imshow(img):\n",
    "    img = img / 2 + 0.5  # unnormalize\n",
    "    plt.imshow(np.transpose(img, (1, 2, 0)))  # convert from Tensor image"
   ]
  },
  {
   "cell_type": "code",
   "execution_count": 52,
   "metadata": {},
   "outputs": [
    {
     "ename": "IndexError",
     "evalue": "index 8 is out of bounds for dimension 0 with size 8",
     "output_type": "error",
     "traceback": [
      "\u001b[1;31m---------------------------------------------------------------------------\u001b[0m",
      "\u001b[1;31mIndexError\u001b[0m                                Traceback (most recent call last)",
      "\u001b[1;32m<ipython-input-52-3669acbf5073>\u001b[0m in \u001b[0;36m<module>\u001b[1;34m\u001b[0m\n\u001b[0;32m     20\u001b[0m \u001b[1;32mfor\u001b[0m \u001b[0midx\u001b[0m \u001b[1;32min\u001b[0m \u001b[0mnp\u001b[0m\u001b[1;33m.\u001b[0m\u001b[0marange\u001b[0m\u001b[1;33m(\u001b[0m\u001b[1;36m10\u001b[0m\u001b[1;33m)\u001b[0m\u001b[1;33m:\u001b[0m\u001b[1;33m\u001b[0m\u001b[1;33m\u001b[0m\u001b[0m\n\u001b[0;32m     21\u001b[0m     \u001b[0max\u001b[0m \u001b[1;33m=\u001b[0m \u001b[0mfig\u001b[0m\u001b[1;33m.\u001b[0m\u001b[0madd_subplot\u001b[0m\u001b[1;33m(\u001b[0m\u001b[1;36m2\u001b[0m\u001b[1;33m,\u001b[0m \u001b[0mint\u001b[0m\u001b[1;33m(\u001b[0m\u001b[1;36m20\u001b[0m\u001b[1;33m/\u001b[0m\u001b[1;36m2\u001b[0m\u001b[1;33m)\u001b[0m\u001b[1;33m,\u001b[0m \u001b[0midx\u001b[0m\u001b[1;33m+\u001b[0m\u001b[1;36m1\u001b[0m\u001b[1;33m,\u001b[0m \u001b[0mxticks\u001b[0m\u001b[1;33m=\u001b[0m\u001b[1;33m[\u001b[0m\u001b[1;33m]\u001b[0m\u001b[1;33m,\u001b[0m \u001b[0myticks\u001b[0m\u001b[1;33m=\u001b[0m\u001b[1;33m[\u001b[0m\u001b[1;33m]\u001b[0m\u001b[1;33m)\u001b[0m\u001b[1;33m\u001b[0m\u001b[1;33m\u001b[0m\u001b[0m\n\u001b[1;32m---> 22\u001b[1;33m     \u001b[0mimshow\u001b[0m\u001b[1;33m(\u001b[0m\u001b[0mimages\u001b[0m\u001b[1;33m.\u001b[0m\u001b[0mcpu\u001b[0m\u001b[1;33m(\u001b[0m\u001b[1;33m)\u001b[0m\u001b[1;33m[\u001b[0m\u001b[0midx\u001b[0m\u001b[1;33m]\u001b[0m\u001b[1;33m)\u001b[0m\u001b[1;33m\u001b[0m\u001b[1;33m\u001b[0m\u001b[0m\n\u001b[0m\u001b[0;32m     23\u001b[0m     ax.set_title(\"{} ({})\".format(classes[preds[idx]], classes[labels[idx]]),\n\u001b[0;32m     24\u001b[0m                  color=(\"green\" if preds[idx]==labels[idx].item() else \"red\"))\n",
      "\u001b[1;31mIndexError\u001b[0m: index 8 is out of bounds for dimension 0 with size 8"
     ]
    },
    {
     "data": {
      "image/png": "[encoded data removed]",
      "text/plain": [
       "<Figure size 1800x288 with 9 Axes>"
      ]
     },
     "metadata": {},
     "output_type": "display_data"
    }
   ],
   "source": [
    "# obtain one batch of test images\n",
    "dataiter = iter(test_DataLoader)\n",
    "images, labels = dataiter.next()\n",
    "images.numpy()\n",
    "\n",
    "# move model inputs to cuda, if GPU available\n",
    "train_on_gpu = torch.cuda.is_available()\n",
    "if train_on_gpu:\n",
    "    images = images.cuda()\n",
    "\n",
    "# get sample outputs\n",
    "output = model(images)\n",
    "# convert output probabilities to predicted class\n",
    "\n",
    "_, preds_tensor = torch.max(output, 1)\n",
    "preds = np.squeeze(preds_tensor.numpy()) if not train_on_gpu else np.squeeze(preds_tensor.cpu().numpy())\n",
    "\n",
    "# plot the images in the batch, along with predicted and true labels\n",
    "fig = plt.figure(figsize=(25, 4))\n",
    "for idx in np.arange(10):\n",
    "    ax = fig.add_subplot(2, int(20/2), idx+1, xticks=[], yticks=[])\n",
    "    imshow(images.cpu()[idx])\n",
    "    ax.set_title(\"{} ({})\".format(classes[preds[idx]], classes[labels[idx]]),\n",
    "                 color=(\"green\" if preds[idx]==labels[idx].item() else \"red\"))"
   ]
  },
  {
   "cell_type": "code",
   "execution_count": null,
   "metadata": {},
   "outputs": [],
   "source": []
  },
  {
   "cell_type": "code",
   "execution_count": null,
   "metadata": {},
   "outputs": [],
   "source": []
  }
 ],
 "metadata": {
  "kernelspec": {
   "display_name": "Python 3",
   "language": "python",
   "name": "python3"
  },
  "language_info": {
   "codemirror_mode": {
    "name": "ipython",
    "version": 3
   },
   "file_extension": ".py",
   "mimetype": "text/x-python",
   "name": "python",
   "nbconvert_exporter": "python",
   "pygments_lexer": "ipython3",
   "version": "3.7.9"
  }
 },
 "nbformat": 4,
 "nbformat_minor": 4
}
